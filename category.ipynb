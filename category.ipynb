{
 "cells": [
  {
   "cell_type": "code",
   "execution_count": 3,
   "metadata": {
    "_cell_guid": "b1076dfc-b9ad-4769-8c92-a6c4dae69d19",
    "_uuid": "8f2839f25d086af736a60e9eeb907d3b93b6e0e5",
    "execution": {
     "iopub.execute_input": "2023-04-08T15:38:15.244199Z",
     "iopub.status.busy": "2023-04-08T15:38:15.243682Z",
     "iopub.status.idle": "2023-04-08T15:38:15.251926Z",
     "shell.execute_reply": "2023-04-08T15:38:15.249886Z",
     "shell.execute_reply.started": "2023-04-08T15:38:15.244161Z"
    }
   },
   "outputs": [],
   "source": [
    "import pandas as pd\n",
    "import numpy as np\n",
    "from sklearn.model_selection import train_test_split\n",
    "from sklearn.metrics import roc_auc_score\n",
    "from tqdm import tqdm\n",
    "from sklearn import preprocessing"
   ]
  },
  {
   "cell_type": "code",
   "execution_count": 10,
   "metadata": {
    "execution": {
     "iopub.execute_input": "2023-04-08T15:25:56.336808Z",
     "iopub.status.busy": "2023-04-08T15:25:56.336398Z",
     "iopub.status.idle": "2023-04-08T15:25:56.346027Z",
     "shell.execute_reply": "2023-04-08T15:25:56.343881Z",
     "shell.execute_reply.started": "2023-04-08T15:25:56.336774Z"
    }
   },
   "outputs": [],
   "source": [
    "import matplotlib.pyplot as plt\n",
    "import catboost\n",
    "import seaborn as sns\n",
    "from sklearn.feature_extraction.text import CountVectorizer, TfidfVectorizer, HashingVectorizer\n",
    "from sklearn.model_selection import train_test_split\n",
    "from nltk.tokenize import TweetTokenizer\n",
    "import nltk\n",
    "from nltk.stem.snowball import SnowballStemmer\n",
    "import string\n",
    "from string import punctuation\n",
    "from sklearn.linear_model import LogisticRegression\n",
    "from sklearn.metrics import f1_score\n",
    "from sklearn.preprocessing import MaxAbsScaler\n",
    "from catboost import CatBoostClassifier\n",
    "from sklearn.model_selection import GridSearchCV"
   ]
  },
  {
   "cell_type": "code",
   "execution_count": 11,
   "metadata": {
    "execution": {
     "iopub.execute_input": "2023-04-08T15:25:57.663395Z",
     "iopub.status.busy": "2023-04-08T15:25:57.662565Z",
     "iopub.status.idle": "2023-04-08T15:25:57.671531Z",
     "shell.execute_reply": "2023-04-08T15:25:57.670278Z",
     "shell.execute_reply.started": "2023-04-08T15:25:57.663355Z"
    }
   },
   "outputs": [
    {
     "name": "stderr",
     "output_type": "stream",
     "text": [
      "[nltk_data] Downloading package stopwords to\n",
      "[nltk_data]     C:\\Users\\User\\AppData\\Roaming\\nltk_data...\n",
      "[nltk_data]   Unzipping corpora\\stopwords.zip.\n"
     ]
    },
    {
     "data": {
      "text/plain": [
       "True"
      ]
     },
     "execution_count": 11,
     "metadata": {},
     "output_type": "execute_result"
    }
   ],
   "source": [
    "nltk.download('stopwords')"
   ]
  },
  {
   "cell_type": "code",
   "execution_count": 13,
   "metadata": {
    "execution": {
     "iopub.execute_input": "2023-04-08T15:32:53.544569Z",
     "iopub.status.busy": "2023-04-08T15:32:53.542932Z",
     "iopub.status.idle": "2023-04-08T15:32:53.652499Z",
     "shell.execute_reply": "2023-04-08T15:32:53.650855Z",
     "shell.execute_reply.started": "2023-04-08T15:32:53.544521Z"
    }
   },
   "outputs": [],
   "source": [
    "data = pd.read_csv(r\"C:\\Users\\User\\Desktop\\HSE Data Science Hack\\train.csv\")"
   ]
  },
  {
   "cell_type": "code",
   "execution_count": 14,
   "metadata": {
    "execution": {
     "iopub.execute_input": "2023-04-08T15:25:58.204968Z",
     "iopub.status.busy": "2023-04-08T15:25:58.204145Z",
     "iopub.status.idle": "2023-04-08T15:26:03.161527Z",
     "shell.execute_reply": "2023-04-08T15:26:03.160276Z",
     "shell.execute_reply.started": "2023-04-08T15:25:58.204929Z"
    }
   },
   "outputs": [],
   "source": [
    "#data_2 = pd.read_csv('/kaggle/input/bank-sentiments/bank-sentiment.csv')\n",
    "#data_bert = pd.read_csv('/kaggle/input/sentiment4/sentiment.csv')"
   ]
  },
  {
   "cell_type": "code",
   "execution_count": 64,
   "metadata": {
    "execution": {
     "iopub.execute_input": "2023-04-08T15:26:03.163939Z",
     "iopub.status.busy": "2023-04-08T15:26:03.163516Z",
     "iopub.status.idle": "2023-04-08T15:26:27.714775Z",
     "shell.execute_reply": "2023-04-08T15:26:27.713557Z",
     "shell.execute_reply.started": "2023-04-08T15:26:03.163906Z"
    }
   },
   "outputs": [],
   "source": [
    "#bank_data = pd.read_csv('/kaggle/input/hataton/HSE Data Science Hack /banki.csv')"
   ]
  },
  {
   "cell_type": "code",
   "execution_count": 15,
   "metadata": {
    "execution": {
     "iopub.execute_input": "2023-04-08T15:32:55.985976Z",
     "iopub.status.busy": "2023-04-08T15:32:55.985497Z",
     "iopub.status.idle": "2023-04-08T15:32:56.001954Z",
     "shell.execute_reply": "2023-04-08T15:32:56.000335Z",
     "shell.execute_reply.started": "2023-04-08T15:32:55.985939Z"
    }
   },
   "outputs": [],
   "source": [
    "data = data.fillna('nans')"
   ]
  },
  {
   "cell_type": "code",
   "execution_count": 16,
   "metadata": {
    "execution": {
     "iopub.execute_input": "2023-04-08T15:32:56.341561Z",
     "iopub.status.busy": "2023-04-08T15:32:56.340844Z",
     "iopub.status.idle": "2023-04-08T15:32:56.351184Z",
     "shell.execute_reply": "2023-04-08T15:32:56.350226Z",
     "shell.execute_reply.started": "2023-04-08T15:32:56.341511Z"
    }
   },
   "outputs": [],
   "source": [
    "data.drop('Unnamed: 0', axis=1, inplace=True)"
   ]
  },
  {
   "cell_type": "code",
   "execution_count": 17,
   "metadata": {
    "execution": {
     "iopub.execute_input": "2023-04-08T15:32:56.780959Z",
     "iopub.status.busy": "2023-04-08T15:32:56.780066Z",
     "iopub.status.idle": "2023-04-08T15:32:56.792721Z",
     "shell.execute_reply": "2023-04-08T15:32:56.791095Z",
     "shell.execute_reply.started": "2023-04-08T15:32:56.780904Z"
    }
   },
   "outputs": [
    {
     "data": {
      "text/plain": [
       "array(['Communication', '?', 'Quality', 'Price', 'Safety'], dtype=object)"
      ]
     },
     "execution_count": 17,
     "metadata": {},
     "output_type": "execute_result"
    }
   ],
   "source": [
    "data['1category'].unique()"
   ]
  },
  {
   "cell_type": "code",
   "execution_count": 18,
   "metadata": {
    "execution": {
     "iopub.execute_input": "2023-04-08T15:32:57.595338Z",
     "iopub.status.busy": "2023-04-08T15:32:57.594828Z",
     "iopub.status.idle": "2023-04-08T15:33:00.005846Z",
     "shell.execute_reply": "2023-04-08T15:33:00.004203Z",
     "shell.execute_reply.started": "2023-04-08T15:32:57.595299Z"
    }
   },
   "outputs": [],
   "source": [
    "for i in range(19361):\n",
    "    if data['2category'][i] == 'nans':\n",
    "        data['2category'][i] = data['1category'][i]"
   ]
  },
  {
   "cell_type": "code",
   "execution_count": 19,
   "metadata": {
    "execution": {
     "iopub.execute_input": "2023-04-08T15:33:00.007937Z",
     "iopub.status.busy": "2023-04-08T15:33:00.007582Z",
     "iopub.status.idle": "2023-04-08T15:33:00.024764Z",
     "shell.execute_reply": "2023-04-08T15:33:00.023321Z",
     "shell.execute_reply.started": "2023-04-08T15:33:00.007904Z"
    }
   },
   "outputs": [
    {
     "data": {
      "text/html": [
       "<div>\n",
       "<style scoped>\n",
       "    .dataframe tbody tr th:only-of-type {\n",
       "        vertical-align: middle;\n",
       "    }\n",
       "\n",
       "    .dataframe tbody tr th {\n",
       "        vertical-align: top;\n",
       "    }\n",
       "\n",
       "    .dataframe thead th {\n",
       "        text-align: right;\n",
       "    }\n",
       "</style>\n",
       "<table border=\"1\" class=\"dataframe\">\n",
       "  <thead>\n",
       "    <tr style=\"text-align: right;\">\n",
       "      <th></th>\n",
       "      <th>sentence</th>\n",
       "      <th>1category</th>\n",
       "      <th>2category</th>\n",
       "      <th>sentiment</th>\n",
       "    </tr>\n",
       "  </thead>\n",
       "  <tbody>\n",
       "    <tr>\n",
       "      <th>0</th>\n",
       "      <td>При этом всегда получал качественные услуги.</td>\n",
       "      <td>Communication</td>\n",
       "      <td>Communication</td>\n",
       "      <td>+</td>\n",
       "    </tr>\n",
       "    <tr>\n",
       "      <th>1</th>\n",
       "      <td>Не вижу, за что хотя бы 2 поставить, сервис на 1!</td>\n",
       "      <td>?</td>\n",
       "      <td>?</td>\n",
       "      <td>−</td>\n",
       "    </tr>\n",
       "    <tr>\n",
       "      <th>2</th>\n",
       "      <td>Вот так \"Мой любимый\" банк МКБ меня обманул.</td>\n",
       "      <td>?</td>\n",
       "      <td>?</td>\n",
       "      <td>−</td>\n",
       "    </tr>\n",
       "    <tr>\n",
       "      <th>3</th>\n",
       "      <td>Отвратительное отношение к клиентам.</td>\n",
       "      <td>Communication</td>\n",
       "      <td>Communication</td>\n",
       "      <td>−</td>\n",
       "    </tr>\n",
       "    <tr>\n",
       "      <th>4</th>\n",
       "      <td>Всегда в любое время дня и ночи помогут, ответ...</td>\n",
       "      <td>Communication</td>\n",
       "      <td>Communication</td>\n",
       "      <td>+</td>\n",
       "    </tr>\n",
       "    <tr>\n",
       "      <th>...</th>\n",
       "      <td>...</td>\n",
       "      <td>...</td>\n",
       "      <td>...</td>\n",
       "      <td>...</td>\n",
       "    </tr>\n",
       "    <tr>\n",
       "      <th>19356</th>\n",
       "      <td>Никогда и ни в коем случае не открывайте счет ...</td>\n",
       "      <td>Communication</td>\n",
       "      <td>Communication</td>\n",
       "      <td>−</td>\n",
       "    </tr>\n",
       "    <tr>\n",
       "      <th>19357</th>\n",
       "      <td>ТИ откровенно забили на качество и развивают с...</td>\n",
       "      <td>Quality</td>\n",
       "      <td>Quality</td>\n",
       "      <td>−</td>\n",
       "    </tr>\n",
       "    <tr>\n",
       "      <th>19358</th>\n",
       "      <td>Я считаю, это прорыв и лидерство финансовых ус...</td>\n",
       "      <td>?</td>\n",
       "      <td>?</td>\n",
       "      <td>+</td>\n",
       "    </tr>\n",
       "    <tr>\n",
       "      <th>19359</th>\n",
       "      <td>Писал мужчина очень доходчиво, не финансовым я...</td>\n",
       "      <td>Communication</td>\n",
       "      <td>Communication</td>\n",
       "      <td>+</td>\n",
       "    </tr>\n",
       "    <tr>\n",
       "      <th>19360</th>\n",
       "      <td>Данная ситуация меня сильно выбила из колеи, и...</td>\n",
       "      <td>Communication</td>\n",
       "      <td>Communication</td>\n",
       "      <td>−</td>\n",
       "    </tr>\n",
       "  </tbody>\n",
       "</table>\n",
       "<p>19361 rows × 4 columns</p>\n",
       "</div>"
      ],
      "text/plain": [
       "                                                sentence      1category  \\\n",
       "0           При этом всегда получал качественные услуги.  Communication   \n",
       "1      Не вижу, за что хотя бы 2 поставить, сервис на 1!              ?   \n",
       "2           Вот так \"Мой любимый\" банк МКБ меня обманул.              ?   \n",
       "3                   Отвратительное отношение к клиентам.  Communication   \n",
       "4      Всегда в любое время дня и ночи помогут, ответ...  Communication   \n",
       "...                                                  ...            ...   \n",
       "19356  Никогда и ни в коем случае не открывайте счет ...  Communication   \n",
       "19357  ТИ откровенно забили на качество и развивают с...        Quality   \n",
       "19358  Я считаю, это прорыв и лидерство финансовых ус...              ?   \n",
       "19359  Писал мужчина очень доходчиво, не финансовым я...  Communication   \n",
       "19360  Данная ситуация меня сильно выбила из колеи, и...  Communication   \n",
       "\n",
       "           2category sentiment  \n",
       "0      Communication         +  \n",
       "1                  ?         −  \n",
       "2                  ?         −  \n",
       "3      Communication         −  \n",
       "4      Communication         +  \n",
       "...              ...       ...  \n",
       "19356  Communication         −  \n",
       "19357        Quality         −  \n",
       "19358              ?         +  \n",
       "19359  Communication         +  \n",
       "19360  Communication         −  \n",
       "\n",
       "[19361 rows x 4 columns]"
      ]
     },
     "execution_count": 19,
     "metadata": {},
     "output_type": "execute_result"
    }
   ],
   "source": [
    "data"
   ]
  },
  {
   "cell_type": "code",
   "execution_count": 20,
   "metadata": {
    "execution": {
     "iopub.execute_input": "2023-04-08T15:33:01.938396Z",
     "iopub.status.busy": "2023-04-08T15:33:01.937841Z",
     "iopub.status.idle": "2023-04-08T15:33:03.475078Z",
     "shell.execute_reply": "2023-04-08T15:33:03.473543Z",
     "shell.execute_reply.started": "2023-04-08T15:33:01.938356Z"
    }
   },
   "outputs": [],
   "source": [
    "for i in range(19361):\n",
    "    if data['2category'][i] == '?':\n",
    "        data['2category'][i] = np.nan\n",
    "        data['1category'][i] = np.nan"
   ]
  },
  {
   "cell_type": "code",
   "execution_count": 21,
   "metadata": {
    "execution": {
     "iopub.execute_input": "2023-04-08T15:33:03.477129Z",
     "iopub.status.busy": "2023-04-08T15:33:03.476738Z",
     "iopub.status.idle": "2023-04-08T15:33:03.493618Z",
     "shell.execute_reply": "2023-04-08T15:33:03.492439Z",
     "shell.execute_reply.started": "2023-04-08T15:33:03.477093Z"
    }
   },
   "outputs": [
    {
     "data": {
      "text/html": [
       "<div>\n",
       "<style scoped>\n",
       "    .dataframe tbody tr th:only-of-type {\n",
       "        vertical-align: middle;\n",
       "    }\n",
       "\n",
       "    .dataframe tbody tr th {\n",
       "        vertical-align: top;\n",
       "    }\n",
       "\n",
       "    .dataframe thead th {\n",
       "        text-align: right;\n",
       "    }\n",
       "</style>\n",
       "<table border=\"1\" class=\"dataframe\">\n",
       "  <thead>\n",
       "    <tr style=\"text-align: right;\">\n",
       "      <th></th>\n",
       "      <th>sentence</th>\n",
       "      <th>1category</th>\n",
       "      <th>2category</th>\n",
       "      <th>sentiment</th>\n",
       "    </tr>\n",
       "  </thead>\n",
       "  <tbody>\n",
       "    <tr>\n",
       "      <th>0</th>\n",
       "      <td>При этом всегда получал качественные услуги.</td>\n",
       "      <td>Communication</td>\n",
       "      <td>Communication</td>\n",
       "      <td>+</td>\n",
       "    </tr>\n",
       "    <tr>\n",
       "      <th>1</th>\n",
       "      <td>Не вижу, за что хотя бы 2 поставить, сервис на 1!</td>\n",
       "      <td>NaN</td>\n",
       "      <td>NaN</td>\n",
       "      <td>−</td>\n",
       "    </tr>\n",
       "    <tr>\n",
       "      <th>2</th>\n",
       "      <td>Вот так \"Мой любимый\" банк МКБ меня обманул.</td>\n",
       "      <td>NaN</td>\n",
       "      <td>NaN</td>\n",
       "      <td>−</td>\n",
       "    </tr>\n",
       "    <tr>\n",
       "      <th>3</th>\n",
       "      <td>Отвратительное отношение к клиентам.</td>\n",
       "      <td>Communication</td>\n",
       "      <td>Communication</td>\n",
       "      <td>−</td>\n",
       "    </tr>\n",
       "    <tr>\n",
       "      <th>4</th>\n",
       "      <td>Всегда в любое время дня и ночи помогут, ответ...</td>\n",
       "      <td>Communication</td>\n",
       "      <td>Communication</td>\n",
       "      <td>+</td>\n",
       "    </tr>\n",
       "    <tr>\n",
       "      <th>...</th>\n",
       "      <td>...</td>\n",
       "      <td>...</td>\n",
       "      <td>...</td>\n",
       "      <td>...</td>\n",
       "    </tr>\n",
       "    <tr>\n",
       "      <th>19356</th>\n",
       "      <td>Никогда и ни в коем случае не открывайте счет ...</td>\n",
       "      <td>Communication</td>\n",
       "      <td>Communication</td>\n",
       "      <td>−</td>\n",
       "    </tr>\n",
       "    <tr>\n",
       "      <th>19357</th>\n",
       "      <td>ТИ откровенно забили на качество и развивают с...</td>\n",
       "      <td>Quality</td>\n",
       "      <td>Quality</td>\n",
       "      <td>−</td>\n",
       "    </tr>\n",
       "    <tr>\n",
       "      <th>19358</th>\n",
       "      <td>Я считаю, это прорыв и лидерство финансовых ус...</td>\n",
       "      <td>NaN</td>\n",
       "      <td>NaN</td>\n",
       "      <td>+</td>\n",
       "    </tr>\n",
       "    <tr>\n",
       "      <th>19359</th>\n",
       "      <td>Писал мужчина очень доходчиво, не финансовым я...</td>\n",
       "      <td>Communication</td>\n",
       "      <td>Communication</td>\n",
       "      <td>+</td>\n",
       "    </tr>\n",
       "    <tr>\n",
       "      <th>19360</th>\n",
       "      <td>Данная ситуация меня сильно выбила из колеи, и...</td>\n",
       "      <td>Communication</td>\n",
       "      <td>Communication</td>\n",
       "      <td>−</td>\n",
       "    </tr>\n",
       "  </tbody>\n",
       "</table>\n",
       "<p>19361 rows × 4 columns</p>\n",
       "</div>"
      ],
      "text/plain": [
       "                                                sentence      1category  \\\n",
       "0           При этом всегда получал качественные услуги.  Communication   \n",
       "1      Не вижу, за что хотя бы 2 поставить, сервис на 1!            NaN   \n",
       "2           Вот так \"Мой любимый\" банк МКБ меня обманул.            NaN   \n",
       "3                   Отвратительное отношение к клиентам.  Communication   \n",
       "4      Всегда в любое время дня и ночи помогут, ответ...  Communication   \n",
       "...                                                  ...            ...   \n",
       "19356  Никогда и ни в коем случае не открывайте счет ...  Communication   \n",
       "19357  ТИ откровенно забили на качество и развивают с...        Quality   \n",
       "19358  Я считаю, это прорыв и лидерство финансовых ус...            NaN   \n",
       "19359  Писал мужчина очень доходчиво, не финансовым я...  Communication   \n",
       "19360  Данная ситуация меня сильно выбила из колеи, и...  Communication   \n",
       "\n",
       "           2category sentiment  \n",
       "0      Communication         +  \n",
       "1                NaN         −  \n",
       "2                NaN         −  \n",
       "3      Communication         −  \n",
       "4      Communication         +  \n",
       "...              ...       ...  \n",
       "19356  Communication         −  \n",
       "19357        Quality         −  \n",
       "19358            NaN         +  \n",
       "19359  Communication         +  \n",
       "19360  Communication         −  \n",
       "\n",
       "[19361 rows x 4 columns]"
      ]
     },
     "execution_count": 21,
     "metadata": {},
     "output_type": "execute_result"
    }
   ],
   "source": [
    "data"
   ]
  },
  {
   "cell_type": "code",
   "execution_count": 22,
   "metadata": {
    "execution": {
     "iopub.execute_input": "2023-04-08T15:33:05.940929Z",
     "iopub.status.busy": "2023-04-08T15:33:05.940524Z",
     "iopub.status.idle": "2023-04-08T15:33:05.948680Z",
     "shell.execute_reply": "2023-04-08T15:33:05.947334Z",
     "shell.execute_reply.started": "2023-04-08T15:33:05.940896Z"
    }
   },
   "outputs": [
    {
     "data": {
      "text/plain": [
       "(19361, 4)"
      ]
     },
     "execution_count": 22,
     "metadata": {},
     "output_type": "execute_result"
    }
   ],
   "source": [
    "data.shape"
   ]
  },
  {
   "cell_type": "code",
   "execution_count": 23,
   "metadata": {
    "execution": {
     "iopub.execute_input": "2023-04-08T15:33:06.979464Z",
     "iopub.status.busy": "2023-04-08T15:33:06.978982Z",
     "iopub.status.idle": "2023-04-08T15:33:06.994545Z",
     "shell.execute_reply": "2023-04-08T15:33:06.993440Z",
     "shell.execute_reply.started": "2023-04-08T15:33:06.979425Z"
    }
   },
   "outputs": [],
   "source": [
    "data = data.dropna()"
   ]
  },
  {
   "cell_type": "code",
   "execution_count": 24,
   "metadata": {
    "execution": {
     "iopub.execute_input": "2023-04-08T15:33:07.149638Z",
     "iopub.status.busy": "2023-04-08T15:33:07.149192Z",
     "iopub.status.idle": "2023-04-08T15:33:07.159053Z",
     "shell.execute_reply": "2023-04-08T15:33:07.157133Z",
     "shell.execute_reply.started": "2023-04-08T15:33:07.149602Z"
    }
   },
   "outputs": [
    {
     "data": {
      "text/plain": [
       "(13435, 4)"
      ]
     },
     "execution_count": 24,
     "metadata": {},
     "output_type": "execute_result"
    }
   ],
   "source": [
    "data.shape"
   ]
  },
  {
   "cell_type": "code",
   "execution_count": 25,
   "metadata": {
    "execution": {
     "iopub.execute_input": "2023-04-08T16:06:55.842513Z",
     "iopub.status.busy": "2023-04-08T16:06:55.841153Z",
     "iopub.status.idle": "2023-04-08T16:06:55.852802Z",
     "shell.execute_reply": "2023-04-08T16:06:55.851225Z",
     "shell.execute_reply.started": "2023-04-08T16:06:55.842454Z"
    }
   },
   "outputs": [
    {
     "ename": "NameError",
     "evalue": "name 'data_to_save' is not defined",
     "output_type": "error",
     "traceback": [
      "\u001b[1;31m---------------------------------------------------------------------------\u001b[0m",
      "\u001b[1;31mNameError\u001b[0m                                 Traceback (most recent call last)",
      "Cell \u001b[1;32mIn[25], line 1\u001b[0m\n\u001b[1;32m----> 1\u001b[0m np\u001b[38;5;241m.\u001b[39marray(\u001b[43mdata_to_save\u001b[49m[\u001b[38;5;124m'\u001b[39m\u001b[38;5;124msentence\u001b[39m\u001b[38;5;124m'\u001b[39m])[\u001b[38;5;241m1\u001b[39m]\n",
      "\u001b[1;31mNameError\u001b[0m: name 'data_to_save' is not defined"
     ]
    }
   ],
   "source": [
    "np.array(data_to_save['sentence'])[1]"
   ]
  },
  {
   "cell_type": "code",
   "execution_count": 27,
   "metadata": {
    "execution": {
     "iopub.execute_input": "2023-04-08T16:13:46.053431Z",
     "iopub.status.busy": "2023-04-08T16:13:46.052965Z",
     "iopub.status.idle": "2023-04-08T16:13:46.060500Z",
     "shell.execute_reply": "2023-04-08T16:13:46.059435Z",
     "shell.execute_reply.started": "2023-04-08T16:13:46.053391Z"
    }
   },
   "outputs": [],
   "source": [
    "data = data.reset_index(drop=True)"
   ]
  },
  {
   "cell_type": "code",
   "execution_count": 47,
   "metadata": {
    "execution": {
     "iopub.execute_input": "2023-04-08T16:14:10.418425Z",
     "iopub.status.busy": "2023-04-08T16:14:10.417472Z",
     "iopub.status.idle": "2023-04-08T16:14:11.035099Z",
     "shell.execute_reply": "2023-04-08T16:14:11.033278Z",
     "shell.execute_reply.started": "2023-04-08T16:14:10.418374Z"
    }
   },
   "outputs": [],
   "source": [
    "data_to_save = {'sentence': [], 'category': []}\n",
    "for i in range(data.shape[0]):\n",
    "    for cat in ['1category', '2category']:\n",
    "        data_to_save['category'] += [data.loc[i, cat]]\n",
    "        data_to_save['sentence'] += [data.loc[i, 'sentence']]"
   ]
  },
  {
   "cell_type": "code",
   "execution_count": 48,
   "metadata": {
    "execution": {
     "iopub.execute_input": "2023-04-08T16:14:47.837189Z",
     "iopub.status.busy": "2023-04-08T16:14:47.836659Z",
     "iopub.status.idle": "2023-04-08T16:14:47.853362Z",
     "shell.execute_reply": "2023-04-08T16:14:47.851622Z",
     "shell.execute_reply.started": "2023-04-08T16:14:47.837145Z"
    }
   },
   "outputs": [],
   "source": [
    "data_to_save = pd.DataFrame(data_to_save)"
   ]
  },
  {
   "cell_type": "code",
   "execution_count": 49,
   "metadata": {
    "execution": {
     "iopub.execute_input": "2023-04-08T16:20:15.025331Z",
     "iopub.status.busy": "2023-04-08T16:20:15.024589Z",
     "iopub.status.idle": "2023-04-08T16:20:15.571316Z",
     "shell.execute_reply": "2023-04-08T16:20:15.569676Z",
     "shell.execute_reply.started": "2023-04-08T16:20:15.025245Z"
    }
   },
   "outputs": [],
   "source": [
    "for i in range(data_to_save['sentence'].shape[0]):\n",
    "    if i < 26869:\n",
    "        if data_to_save['sentence'][i] == data_to_save['sentence'][i+1]:\n",
    "            if data_to_save['category'][i] == data_to_save['category'][i+1]:\n",
    "                data_to_save['category'][i+1] = np.nan\n",
    "        "
   ]
  },
  {
   "cell_type": "code",
   "execution_count": 50,
   "metadata": {
    "execution": {
     "iopub.execute_input": "2023-04-08T16:23:06.207936Z",
     "iopub.status.busy": "2023-04-08T16:23:06.207499Z",
     "iopub.status.idle": "2023-04-08T16:23:06.222685Z",
     "shell.execute_reply": "2023-04-08T16:23:06.220658Z",
     "shell.execute_reply.started": "2023-04-08T16:23:06.207901Z"
    }
   },
   "outputs": [],
   "source": [
    "data_ = data_to_save.dropna()"
   ]
  },
  {
   "cell_type": "code",
   "execution_count": 51,
   "metadata": {
    "execution": {
     "iopub.execute_input": "2023-04-08T16:23:44.721606Z",
     "iopub.status.busy": "2023-04-08T16:23:44.721142Z",
     "iopub.status.idle": "2023-04-08T16:23:44.744854Z",
     "shell.execute_reply": "2023-04-08T16:23:44.742972Z",
     "shell.execute_reply.started": "2023-04-08T16:23:44.721569Z"
    }
   },
   "outputs": [
    {
     "data": {
      "text/html": [
       "<div>\n",
       "<style scoped>\n",
       "    .dataframe tbody tr th:only-of-type {\n",
       "        vertical-align: middle;\n",
       "    }\n",
       "\n",
       "    .dataframe tbody tr th {\n",
       "        vertical-align: top;\n",
       "    }\n",
       "\n",
       "    .dataframe thead th {\n",
       "        text-align: right;\n",
       "    }\n",
       "</style>\n",
       "<table border=\"1\" class=\"dataframe\">\n",
       "  <thead>\n",
       "    <tr style=\"text-align: right;\">\n",
       "      <th></th>\n",
       "      <th>sentence</th>\n",
       "      <th>category</th>\n",
       "    </tr>\n",
       "  </thead>\n",
       "  <tbody>\n",
       "    <tr>\n",
       "      <th>0</th>\n",
       "      <td>При этом всегда получал качественные услуги.</td>\n",
       "      <td>Communication</td>\n",
       "    </tr>\n",
       "    <tr>\n",
       "      <th>2</th>\n",
       "      <td>Отвратительное отношение к клиентам.</td>\n",
       "      <td>Communication</td>\n",
       "    </tr>\n",
       "    <tr>\n",
       "      <th>4</th>\n",
       "      <td>Всегда в любое время дня и ночи помогут, ответ...</td>\n",
       "      <td>Communication</td>\n",
       "    </tr>\n",
       "    <tr>\n",
       "      <th>6</th>\n",
       "      <td>Все время согласовывалось, всё делалось быстро.</td>\n",
       "      <td>Communication</td>\n",
       "    </tr>\n",
       "    <tr>\n",
       "      <th>8</th>\n",
       "      <td>Абсолютное бездействие и нежелание банка работ...</td>\n",
       "      <td>Quality</td>\n",
       "    </tr>\n",
       "    <tr>\n",
       "      <th>...</th>\n",
       "      <td>...</td>\n",
       "      <td>...</td>\n",
       "    </tr>\n",
       "    <tr>\n",
       "      <th>26860</th>\n",
       "      <td>Руководитель Ф-рин А. крайне неквалифицирован ...</td>\n",
       "      <td>Communication</td>\n",
       "    </tr>\n",
       "    <tr>\n",
       "      <th>26862</th>\n",
       "      <td>Никогда и ни в коем случае не открывайте счет ...</td>\n",
       "      <td>Communication</td>\n",
       "    </tr>\n",
       "    <tr>\n",
       "      <th>26864</th>\n",
       "      <td>ТИ откровенно забили на качество и развивают с...</td>\n",
       "      <td>Quality</td>\n",
       "    </tr>\n",
       "    <tr>\n",
       "      <th>26866</th>\n",
       "      <td>Писал мужчина очень доходчиво, не финансовым я...</td>\n",
       "      <td>Communication</td>\n",
       "    </tr>\n",
       "    <tr>\n",
       "      <th>26868</th>\n",
       "      <td>Данная ситуация меня сильно выбила из колеи, и...</td>\n",
       "      <td>Communication</td>\n",
       "    </tr>\n",
       "  </tbody>\n",
       "</table>\n",
       "<p>14434 rows × 2 columns</p>\n",
       "</div>"
      ],
      "text/plain": [
       "                                                sentence       category\n",
       "0           При этом всегда получал качественные услуги.  Communication\n",
       "2                   Отвратительное отношение к клиентам.  Communication\n",
       "4      Всегда в любое время дня и ночи помогут, ответ...  Communication\n",
       "6        Все время согласовывалось, всё делалось быстро.  Communication\n",
       "8      Абсолютное бездействие и нежелание банка работ...        Quality\n",
       "...                                                  ...            ...\n",
       "26860  Руководитель Ф-рин А. крайне неквалифицирован ...  Communication\n",
       "26862  Никогда и ни в коем случае не открывайте счет ...  Communication\n",
       "26864  ТИ откровенно забили на качество и развивают с...        Quality\n",
       "26866  Писал мужчина очень доходчиво, не финансовым я...  Communication\n",
       "26868  Данная ситуация меня сильно выбила из колеи, и...  Communication\n",
       "\n",
       "[14434 rows x 2 columns]"
      ]
     },
     "execution_count": 51,
     "metadata": {},
     "output_type": "execute_result"
    }
   ],
   "source": [
    "data_"
   ]
  },
  {
   "cell_type": "code",
   "execution_count": 52,
   "metadata": {
    "execution": {
     "iopub.execute_input": "2023-04-08T15:35:00.640636Z",
     "iopub.status.busy": "2023-04-08T15:35:00.639759Z",
     "iopub.status.idle": "2023-04-08T15:35:00.654574Z",
     "shell.execute_reply": "2023-04-08T15:35:00.652728Z",
     "shell.execute_reply.started": "2023-04-08T15:35:00.640586Z"
    }
   },
   "outputs": [],
   "source": [
    "data['12category'] = data['1category'] + data['2category']"
   ]
  },
  {
   "cell_type": "code",
   "execution_count": 53,
   "metadata": {
    "execution": {
     "iopub.execute_input": "2023-04-08T15:37:37.202237Z",
     "iopub.status.busy": "2023-04-08T15:37:37.200794Z",
     "iopub.status.idle": "2023-04-08T15:37:37.214442Z",
     "shell.execute_reply": "2023-04-08T15:37:37.213504Z",
     "shell.execute_reply.started": "2023-04-08T15:37:37.202175Z"
    }
   },
   "outputs": [
    {
     "data": {
      "text/plain": [
       "array(['CommunicationCommunication', 'QualityQuality', 'PriceQuality',\n",
       "       'PricePrice', 'QualityCommunication', 'SafetySafety',\n",
       "       'QualityPrice', 'PriceCommunication', 'CommunicationQuality',\n",
       "       'CommunicationSafety', 'QualitySafety', 'SafetyCommunication',\n",
       "       'CommunicationPrice', 'SafetyQuality', 'SafetyPrice'], dtype=object)"
      ]
     },
     "execution_count": 53,
     "metadata": {},
     "output_type": "execute_result"
    }
   ],
   "source": [
    "data['12category'].unique()"
   ]
  },
  {
   "cell_type": "code",
   "execution_count": 54,
   "metadata": {
    "execution": {
     "iopub.execute_input": "2023-04-08T16:23:58.877923Z",
     "iopub.status.busy": "2023-04-08T16:23:58.877437Z",
     "iopub.status.idle": "2023-04-08T16:23:58.889070Z",
     "shell.execute_reply": "2023-04-08T16:23:58.888024Z",
     "shell.execute_reply.started": "2023-04-08T16:23:58.877884Z"
    }
   },
   "outputs": [
    {
     "data": {
      "text/html": [
       "<style>#sk-container-id-2 {color: black;background-color: white;}#sk-container-id-2 pre{padding: 0;}#sk-container-id-2 div.sk-toggleable {background-color: white;}#sk-container-id-2 label.sk-toggleable__label {cursor: pointer;display: block;width: 100%;margin-bottom: 0;padding: 0.3em;box-sizing: border-box;text-align: center;}#sk-container-id-2 label.sk-toggleable__label-arrow:before {content: \"▸\";float: left;margin-right: 0.25em;color: #696969;}#sk-container-id-2 label.sk-toggleable__label-arrow:hover:before {color: black;}#sk-container-id-2 div.sk-estimator:hover label.sk-toggleable__label-arrow:before {color: black;}#sk-container-id-2 div.sk-toggleable__content {max-height: 0;max-width: 0;overflow: hidden;text-align: left;background-color: #f0f8ff;}#sk-container-id-2 div.sk-toggleable__content pre {margin: 0.2em;color: black;border-radius: 0.25em;background-color: #f0f8ff;}#sk-container-id-2 input.sk-toggleable__control:checked~div.sk-toggleable__content {max-height: 200px;max-width: 100%;overflow: auto;}#sk-container-id-2 input.sk-toggleable__control:checked~label.sk-toggleable__label-arrow:before {content: \"▾\";}#sk-container-id-2 div.sk-estimator input.sk-toggleable__control:checked~label.sk-toggleable__label {background-color: #d4ebff;}#sk-container-id-2 div.sk-label input.sk-toggleable__control:checked~label.sk-toggleable__label {background-color: #d4ebff;}#sk-container-id-2 input.sk-hidden--visually {border: 0;clip: rect(1px 1px 1px 1px);clip: rect(1px, 1px, 1px, 1px);height: 1px;margin: -1px;overflow: hidden;padding: 0;position: absolute;width: 1px;}#sk-container-id-2 div.sk-estimator {font-family: monospace;background-color: #f0f8ff;border: 1px dotted black;border-radius: 0.25em;box-sizing: border-box;margin-bottom: 0.5em;}#sk-container-id-2 div.sk-estimator:hover {background-color: #d4ebff;}#sk-container-id-2 div.sk-parallel-item::after {content: \"\";width: 100%;border-bottom: 1px solid gray;flex-grow: 1;}#sk-container-id-2 div.sk-label:hover label.sk-toggleable__label {background-color: #d4ebff;}#sk-container-id-2 div.sk-serial::before {content: \"\";position: absolute;border-left: 1px solid gray;box-sizing: border-box;top: 0;bottom: 0;left: 50%;z-index: 0;}#sk-container-id-2 div.sk-serial {display: flex;flex-direction: column;align-items: center;background-color: white;padding-right: 0.2em;padding-left: 0.2em;position: relative;}#sk-container-id-2 div.sk-item {position: relative;z-index: 1;}#sk-container-id-2 div.sk-parallel {display: flex;align-items: stretch;justify-content: center;background-color: white;position: relative;}#sk-container-id-2 div.sk-item::before, #sk-container-id-2 div.sk-parallel-item::before {content: \"\";position: absolute;border-left: 1px solid gray;box-sizing: border-box;top: 0;bottom: 0;left: 50%;z-index: -1;}#sk-container-id-2 div.sk-parallel-item {display: flex;flex-direction: column;z-index: 1;position: relative;background-color: white;}#sk-container-id-2 div.sk-parallel-item:first-child::after {align-self: flex-end;width: 50%;}#sk-container-id-2 div.sk-parallel-item:last-child::after {align-self: flex-start;width: 50%;}#sk-container-id-2 div.sk-parallel-item:only-child::after {width: 0;}#sk-container-id-2 div.sk-dashed-wrapped {border: 1px dashed gray;margin: 0 0.4em 0.5em 0.4em;box-sizing: border-box;padding-bottom: 0.4em;background-color: white;}#sk-container-id-2 div.sk-label label {font-family: monospace;font-weight: bold;display: inline-block;line-height: 1.2em;}#sk-container-id-2 div.sk-label-container {text-align: center;}#sk-container-id-2 div.sk-container {/* jupyter's `normalize.less` sets `[hidden] { display: none; }` but bootstrap.min.css set `[hidden] { display: none !important; }` so we also need the `!important` here to be able to override the default hidden behavior on the sphinx rendered scikit-learn.org. See: https://github.com/scikit-learn/scikit-learn/issues/21755 */display: inline-block !important;position: relative;}#sk-container-id-2 div.sk-text-repr-fallback {display: none;}</style><div id=\"sk-container-id-2\" class=\"sk-top-container\"><div class=\"sk-text-repr-fallback\"><pre>LabelEncoder()</pre><b>In a Jupyter environment, please rerun this cell to show the HTML representation or trust the notebook. <br />On GitHub, the HTML representation is unable to render, please try loading this page with nbviewer.org.</b></div><div class=\"sk-container\" hidden><div class=\"sk-item\"><div class=\"sk-estimator sk-toggleable\"><input class=\"sk-toggleable__control sk-hidden--visually\" id=\"sk-estimator-id-2\" type=\"checkbox\" checked><label for=\"sk-estimator-id-2\" class=\"sk-toggleable__label sk-toggleable__label-arrow\">LabelEncoder</label><div class=\"sk-toggleable__content\"><pre>LabelEncoder()</pre></div></div></div></div></div>"
      ],
      "text/plain": [
       "LabelEncoder()"
      ]
     },
     "execution_count": 54,
     "metadata": {},
     "output_type": "execute_result"
    }
   ],
   "source": [
    "le = preprocessing.LabelEncoder()\n",
    "le.fit(data_['category'].unique())"
   ]
  },
  {
   "cell_type": "code",
   "execution_count": 55,
   "metadata": {
    "execution": {
     "iopub.execute_input": "2023-04-08T16:24:03.171223Z",
     "iopub.status.busy": "2023-04-08T16:24:03.170784Z",
     "iopub.status.idle": "2023-04-08T16:24:03.186562Z",
     "shell.execute_reply": "2023-04-08T16:24:03.184169Z",
     "shell.execute_reply.started": "2023-04-08T16:24:03.171187Z"
    }
   },
   "outputs": [],
   "source": [
    "target_coded = le.transform(data_['category'])"
   ]
  },
  {
   "cell_type": "code",
   "execution_count": 56,
   "metadata": {
    "execution": {
     "iopub.execute_input": "2023-04-08T16:24:15.932814Z",
     "iopub.status.busy": "2023-04-08T16:24:15.931645Z",
     "iopub.status.idle": "2023-04-08T16:24:15.947611Z",
     "shell.execute_reply": "2023-04-08T16:24:15.945498Z",
     "shell.execute_reply.started": "2023-04-08T16:24:15.932767Z"
    }
   },
   "outputs": [],
   "source": [
    "X_train, X_test, y_train, y_test = train_test_split(\n",
    "    data_['sentence'], target_coded, test_size=0.3, random_state=42)"
   ]
  },
  {
   "cell_type": "code",
   "execution_count": 57,
   "metadata": {
    "execution": {
     "iopub.execute_input": "2023-04-08T16:24:21.644779Z",
     "iopub.status.busy": "2023-04-08T16:24:21.644327Z",
     "iopub.status.idle": "2023-04-08T16:24:21.651596Z",
     "shell.execute_reply": "2023-04-08T16:24:21.650397Z",
     "shell.execute_reply.started": "2023-04-08T16:24:21.644744Z"
    }
   },
   "outputs": [],
   "source": [
    "def tok(text):\n",
    "    tt = TweetTokenizer()\n",
    "    return tt.tokenize(text)"
   ]
  },
  {
   "cell_type": "code",
   "execution_count": 58,
   "metadata": {
    "execution": {
     "iopub.execute_input": "2023-04-08T16:24:22.935803Z",
     "iopub.status.busy": "2023-04-08T16:24:22.934953Z",
     "iopub.status.idle": "2023-04-08T16:24:22.943282Z",
     "shell.execute_reply": "2023-04-08T16:24:22.941507Z",
     "shell.execute_reply.started": "2023-04-08T16:24:22.935755Z"
    }
   },
   "outputs": [],
   "source": [
    "vect2 = TfidfVectorizer(ngram_range=(1, 5), tokenizer=tok)"
   ]
  },
  {
   "cell_type": "code",
   "execution_count": 59,
   "metadata": {
    "execution": {
     "iopub.execute_input": "2023-04-08T16:24:24.434149Z",
     "iopub.status.busy": "2023-04-08T16:24:24.432563Z",
     "iopub.status.idle": "2023-04-08T16:24:28.597995Z",
     "shell.execute_reply": "2023-04-08T16:24:28.596942Z",
     "shell.execute_reply.started": "2023-04-08T16:24:24.434084Z"
    }
   },
   "outputs": [
    {
     "name": "stderr",
     "output_type": "stream",
     "text": [
      "D:\\Python\\lib\\site-packages\\sklearn\\feature_extraction\\text.py:528: UserWarning: The parameter 'token_pattern' will not be used since 'tokenizer' is not None'\n",
      "  warnings.warn(\n"
     ]
    }
   ],
   "source": [
    "bow3 = vect2.fit_transform(X_train)"
   ]
  },
  {
   "cell_type": "code",
   "execution_count": 60,
   "metadata": {
    "execution": {
     "iopub.execute_input": "2023-04-08T16:24:28.600507Z",
     "iopub.status.busy": "2023-04-08T16:24:28.599903Z",
     "iopub.status.idle": "2023-04-08T16:24:29.569672Z",
     "shell.execute_reply": "2023-04-08T16:24:29.568339Z",
     "shell.execute_reply.started": "2023-04-08T16:24:28.600470Z"
    }
   },
   "outputs": [
    {
     "data": {
      "text/plain": [
       "(10103, 400072)"
      ]
     },
     "execution_count": 60,
     "metadata": {},
     "output_type": "execute_result"
    }
   ],
   "source": [
    "bow3_test = vect2.transform(X_test)\n",
    "bow3.shape"
   ]
  },
  {
   "cell_type": "code",
   "execution_count": 61,
   "metadata": {
    "execution": {
     "iopub.execute_input": "2023-04-08T16:24:33.640495Z",
     "iopub.status.busy": "2023-04-08T16:24:33.640011Z",
     "iopub.status.idle": "2023-04-08T16:24:33.773148Z",
     "shell.execute_reply": "2023-04-08T16:24:33.771682Z",
     "shell.execute_reply.started": "2023-04-08T16:24:33.640454Z"
    }
   },
   "outputs": [],
   "source": [
    "scaler = MaxAbsScaler()\n",
    "bow3 = scaler.fit_transform(bow3)\n",
    "bow3_test = scaler.transform(bow3_test)"
   ]
  },
  {
   "cell_type": "code",
   "execution_count": 62,
   "metadata": {
    "execution": {
     "iopub.execute_input": "2023-04-08T16:24:54.102405Z",
     "iopub.status.busy": "2023-04-08T16:24:54.101869Z",
     "iopub.status.idle": "2023-04-08T16:26:09.393508Z",
     "shell.execute_reply": "2023-04-08T16:26:09.392177Z",
     "shell.execute_reply.started": "2023-04-08T16:24:54.102364Z"
    }
   },
   "outputs": [],
   "source": [
    "lgr = LogisticRegression(max_iter=1000, random_state=42)\n",
    "lgr.fit(bow3, y_train)\n",
    "pred_proba = lgr.predict_proba(bow3_test)\n",
    "#score = roc_auc_score(y_test, pred_proba, multi_class='ovr')"
   ]
  },
  {
   "cell_type": "code",
   "execution_count": 63,
   "metadata": {
    "execution": {
     "iopub.execute_input": "2023-04-08T16:26:58.508310Z",
     "iopub.status.busy": "2023-04-08T16:26:58.506635Z",
     "iopub.status.idle": "2023-04-08T16:26:58.529513Z",
     "shell.execute_reply": "2023-04-08T16:26:58.527696Z",
     "shell.execute_reply.started": "2023-04-08T16:26:58.508190Z"
    }
   },
   "outputs": [],
   "source": [
    "score = roc_auc_score(y_test, pred_proba, multi_class='ovr')"
   ]
  },
  {
   "cell_type": "code",
   "execution_count": 64,
   "metadata": {
    "execution": {
     "iopub.execute_input": "2023-04-08T16:27:25.795641Z",
     "iopub.status.busy": "2023-04-08T16:27:25.795066Z",
     "iopub.status.idle": "2023-04-08T16:27:25.805611Z",
     "shell.execute_reply": "2023-04-08T16:27:25.804051Z",
     "shell.execute_reply.started": "2023-04-08T16:27:25.795597Z"
    }
   },
   "outputs": [
    {
     "data": {
      "text/plain": [
       "0.7503941975661519"
      ]
     },
     "execution_count": 64,
     "metadata": {},
     "output_type": "execute_result"
    }
   ],
   "source": [
    "score"
   ]
  },
  {
   "cell_type": "code",
   "execution_count": 65,
   "metadata": {
    "execution": {
     "iopub.execute_input": "2023-04-08T16:27:36.149465Z",
     "iopub.status.busy": "2023-04-08T16:27:36.147787Z",
     "iopub.status.idle": "2023-04-08T16:31:32.478022Z",
     "shell.execute_reply": "2023-04-08T16:31:32.476154Z",
     "shell.execute_reply.started": "2023-04-08T16:27:36.149393Z"
    }
   },
   "outputs": [
    {
     "name": "stderr",
     "output_type": "stream",
     "text": [
      "100%|██████████████████████████████████████████████████████████████████████████████████| 13/13 [01:53<00:00,  8.70s/it]\n"
     ]
    }
   ],
   "source": [
    "C = [10**(-n) for n in range(-3, 10)]\n",
    "penalties = ['l1', 'l2']\n",
    "score_0 = 0\n",
    "for i in tqdm(range(len(C))):\n",
    "    for penalty in penalties:\n",
    "        lgr = LogisticRegression(max_iter=1000,\n",
    "                                random_state=42, C=C[i],\n",
    "                                penalty=penalty,\n",
    "                                solver='liblinear')\n",
    "        lgr.fit(bow3, y_train)\n",
    "        pred_proba = lgr.predict_proba(bow3_test)\n",
    "        score = roc_auc_score(y_test, pred_proba, multi_class='ovr')\n",
    "        if score > score_0:\n",
    "            score_0 = score\n",
    "            C_ = C[i]\n",
    "            p = penalty"
   ]
  },
  {
   "cell_type": "code",
   "execution_count": 66,
   "metadata": {
    "execution": {
     "iopub.execute_input": "2023-04-08T16:31:32.483849Z",
     "iopub.status.busy": "2023-04-08T16:31:32.482007Z",
     "iopub.status.idle": "2023-04-08T16:31:32.494724Z",
     "shell.execute_reply": "2023-04-08T16:31:32.492924Z",
     "shell.execute_reply.started": "2023-04-08T16:31:32.483778Z"
    }
   },
   "outputs": [
    {
     "data": {
      "text/plain": [
       "(1, 'l1')"
      ]
     },
     "execution_count": 66,
     "metadata": {},
     "output_type": "execute_result"
    }
   ],
   "source": [
    "C_, p"
   ]
  },
  {
   "cell_type": "code",
   "execution_count": 67,
   "metadata": {
    "execution": {
     "iopub.execute_input": "2023-04-08T16:31:32.498500Z",
     "iopub.status.busy": "2023-04-08T16:31:32.496967Z",
     "iopub.status.idle": "2023-04-08T16:31:36.362416Z",
     "shell.execute_reply": "2023-04-08T16:31:36.361012Z",
     "shell.execute_reply.started": "2023-04-08T16:31:32.498411Z"
    }
   },
   "outputs": [],
   "source": [
    "lgr_best = LogisticRegression(max_iter=1000, random_state=42, C=C_, penalty=p, solver='liblinear')\n",
    "lgr_best.fit(bow3, y_train)\n",
    "pred_proba = lgr_best.predict_proba(bow3_test)"
   ]
  },
  {
   "cell_type": "code",
   "execution_count": 68,
   "metadata": {
    "execution": {
     "iopub.execute_input": "2023-04-08T16:31:36.365340Z",
     "iopub.status.busy": "2023-04-08T16:31:36.364928Z",
     "iopub.status.idle": "2023-04-08T16:31:36.382146Z",
     "shell.execute_reply": "2023-04-08T16:31:36.380804Z",
     "shell.execute_reply.started": "2023-04-08T16:31:36.365300Z"
    }
   },
   "outputs": [
    {
     "name": "stdout",
     "output_type": "stream",
     "text": [
      "0.7836880258395187\n"
     ]
    }
   ],
   "source": [
    "print(roc_auc_score(y_test, pred_proba, multi_class='ovr'))"
   ]
  },
  {
   "cell_type": "code",
   "execution_count": 71,
   "metadata": {
    "execution": {
     "iopub.execute_input": "2023-04-08T16:49:32.245094Z",
     "iopub.status.busy": "2023-04-08T16:49:32.244493Z",
     "iopub.status.idle": "2023-04-08T16:53:55.124123Z",
     "shell.execute_reply": "2023-04-08T16:53:55.122320Z",
     "shell.execute_reply.started": "2023-04-08T16:49:32.245040Z"
    }
   },
   "outputs": [
    {
     "name": "stdout",
     "output_type": "stream",
     "text": [
      "0:\tlearn: 1.3079774\ttotal: 4.55s\tremaining: 7m 30s\n",
      "1:\tlearn: 1.2445956\ttotal: 9.13s\tremaining: 7m 27s\n",
      "2:\tlearn: 1.1919480\ttotal: 13.7s\tremaining: 7m 23s\n",
      "3:\tlearn: 1.1482194\ttotal: 18.3s\tremaining: 7m 18s\n",
      "4:\tlearn: 1.1107421\ttotal: 22.8s\tremaining: 7m 13s\n",
      "5:\tlearn: 1.0793790\ttotal: 27.4s\tremaining: 7m 8s\n",
      "6:\tlearn: 1.0526587\ttotal: 32s\tremaining: 7m 5s\n",
      "7:\tlearn: 1.0291216\ttotal: 36.3s\tremaining: 6m 57s\n",
      "8:\tlearn: 1.0089143\ttotal: 40.6s\tremaining: 6m 50s\n",
      "9:\tlearn: 0.9913909\ttotal: 44.9s\tremaining: 6m 43s\n",
      "10:\tlearn: 0.9766834\ttotal: 49.2s\tremaining: 6m 38s\n",
      "11:\tlearn: 0.9637453\ttotal: 53.5s\tremaining: 6m 32s\n",
      "12:\tlearn: 0.9523552\ttotal: 57.7s\tremaining: 6m 26s\n",
      "13:\tlearn: 0.9424254\ttotal: 1m 2s\tremaining: 6m 20s\n",
      "14:\tlearn: 0.9338129\ttotal: 1m 6s\tremaining: 6m 15s\n",
      "15:\tlearn: 0.9260539\ttotal: 1m 10s\tremaining: 6m 10s\n",
      "16:\tlearn: 0.9185107\ttotal: 1m 14s\tremaining: 6m 5s\n",
      "17:\tlearn: 0.9122695\ttotal: 1m 19s\tremaining: 6m\n",
      "18:\tlearn: 0.9049759\ttotal: 1m 23s\tremaining: 5m 55s\n",
      "19:\tlearn: 0.9002198\ttotal: 1m 27s\tremaining: 5m 50s\n",
      "20:\tlearn: 0.8941205\ttotal: 1m 32s\tremaining: 5m 46s\n",
      "21:\tlearn: 0.8901571\ttotal: 1m 36s\tremaining: 5m 41s\n",
      "22:\tlearn: 0.8864965\ttotal: 1m 40s\tremaining: 5m 36s\n",
      "23:\tlearn: 0.8832054\ttotal: 1m 45s\tremaining: 5m 32s\n",
      "24:\tlearn: 0.8787476\ttotal: 1m 49s\tremaining: 5m 28s\n",
      "25:\tlearn: 0.8754262\ttotal: 1m 53s\tremaining: 5m 23s\n",
      "26:\tlearn: 0.8725616\ttotal: 1m 58s\tremaining: 5m 20s\n",
      "27:\tlearn: 0.8704748\ttotal: 2m 2s\tremaining: 5m 16s\n",
      "28:\tlearn: 0.8678180\ttotal: 2m 7s\tremaining: 5m 12s\n",
      "29:\tlearn: 0.8663864\ttotal: 2m 12s\tremaining: 5m 8s\n",
      "30:\tlearn: 0.8642915\ttotal: 2m 16s\tremaining: 5m 4s\n",
      "31:\tlearn: 0.8621340\ttotal: 2m 21s\tremaining: 5m\n",
      "32:\tlearn: 0.8599799\ttotal: 2m 25s\tremaining: 4m 55s\n",
      "33:\tlearn: 0.8583532\ttotal: 2m 30s\tremaining: 4m 51s\n",
      "34:\tlearn: 0.8565970\ttotal: 2m 34s\tremaining: 4m 47s\n",
      "35:\tlearn: 0.8548106\ttotal: 2m 39s\tremaining: 4m 42s\n",
      "36:\tlearn: 0.8535778\ttotal: 2m 43s\tremaining: 4m 38s\n",
      "37:\tlearn: 0.8515613\ttotal: 2m 47s\tremaining: 4m 33s\n",
      "38:\tlearn: 0.8504178\ttotal: 2m 52s\tremaining: 4m 29s\n",
      "39:\tlearn: 0.8494810\ttotal: 2m 56s\tremaining: 4m 24s\n",
      "40:\tlearn: 0.8478731\ttotal: 3m\tremaining: 4m 20s\n",
      "41:\tlearn: 0.8460801\ttotal: 3m 5s\tremaining: 4m 15s\n",
      "42:\tlearn: 0.8446993\ttotal: 3m 9s\tremaining: 4m 11s\n",
      "43:\tlearn: 0.8436955\ttotal: 3m 13s\tremaining: 4m 6s\n",
      "44:\tlearn: 0.8418424\ttotal: 3m 18s\tremaining: 4m 2s\n",
      "45:\tlearn: 0.8411308\ttotal: 3m 22s\tremaining: 3m 57s\n",
      "46:\tlearn: 0.8407064\ttotal: 3m 26s\tremaining: 3m 53s\n",
      "47:\tlearn: 0.8393568\ttotal: 3m 30s\tremaining: 3m 48s\n",
      "48:\tlearn: 0.8381784\ttotal: 3m 35s\tremaining: 3m 44s\n",
      "49:\tlearn: 0.8373609\ttotal: 3m 39s\tremaining: 3m 39s\n",
      "50:\tlearn: 0.8360227\ttotal: 3m 43s\tremaining: 3m 35s\n",
      "51:\tlearn: 0.8352653\ttotal: 3m 48s\tremaining: 3m 30s\n",
      "52:\tlearn: 0.8344932\ttotal: 3m 52s\tremaining: 3m 26s\n",
      "53:\tlearn: 0.8338666\ttotal: 3m 56s\tremaining: 3m 21s\n",
      "54:\tlearn: 0.8325278\ttotal: 4m 1s\tremaining: 3m 17s\n",
      "55:\tlearn: 0.8319773\ttotal: 4m 5s\tremaining: 3m 12s\n",
      "56:\tlearn: 0.8314848\ttotal: 4m 9s\tremaining: 3m 8s\n",
      "57:\tlearn: 0.8301180\ttotal: 4m 13s\tremaining: 3m 3s\n",
      "58:\tlearn: 0.8294996\ttotal: 4m 18s\tremaining: 2m 59s\n",
      "59:\tlearn: 0.8287940\ttotal: 4m 22s\tremaining: 2m 54s\n",
      "60:\tlearn: 0.8279006\ttotal: 4m 26s\tremaining: 2m 50s\n",
      "61:\tlearn: 0.8270141\ttotal: 4m 31s\tremaining: 2m 46s\n",
      "62:\tlearn: 0.8262064\ttotal: 4m 35s\tremaining: 2m 41s\n",
      "63:\tlearn: 0.8253681\ttotal: 4m 39s\tremaining: 2m 37s\n",
      "64:\tlearn: 0.8247112\ttotal: 4m 44s\tremaining: 2m 32s\n",
      "65:\tlearn: 0.8242647\ttotal: 4m 48s\tremaining: 2m 28s\n",
      "66:\tlearn: 0.8229320\ttotal: 4m 52s\tremaining: 2m 24s\n",
      "67:\tlearn: 0.8213339\ttotal: 4m 56s\tremaining: 2m 19s\n",
      "68:\tlearn: 0.8203746\ttotal: 5m 1s\tremaining: 2m 15s\n",
      "69:\tlearn: 0.8194760\ttotal: 5m 5s\tremaining: 2m 10s\n",
      "70:\tlearn: 0.8190497\ttotal: 5m 9s\tremaining: 2m 6s\n",
      "71:\tlearn: 0.8177205\ttotal: 5m 13s\tremaining: 2m 2s\n",
      "72:\tlearn: 0.8168874\ttotal: 5m 18s\tremaining: 1m 57s\n",
      "73:\tlearn: 0.8159583\ttotal: 5m 22s\tremaining: 1m 53s\n",
      "74:\tlearn: 0.8152158\ttotal: 5m 26s\tremaining: 1m 48s\n",
      "75:\tlearn: 0.8144608\ttotal: 5m 31s\tremaining: 1m 44s\n",
      "76:\tlearn: 0.8134660\ttotal: 5m 35s\tremaining: 1m 40s\n",
      "77:\tlearn: 0.8126215\ttotal: 5m 39s\tremaining: 1m 35s\n",
      "78:\tlearn: 0.8119257\ttotal: 5m 44s\tremaining: 1m 31s\n",
      "79:\tlearn: 0.8110576\ttotal: 5m 48s\tremaining: 1m 27s\n",
      "80:\tlearn: 0.8102131\ttotal: 5m 53s\tremaining: 1m 22s\n",
      "81:\tlearn: 0.8097415\ttotal: 5m 57s\tremaining: 1m 18s\n",
      "82:\tlearn: 0.8090766\ttotal: 6m 1s\tremaining: 1m 14s\n",
      "83:\tlearn: 0.8083126\ttotal: 6m 6s\tremaining: 1m 9s\n",
      "84:\tlearn: 0.8076880\ttotal: 6m 10s\tremaining: 1m 5s\n",
      "85:\tlearn: 0.8069761\ttotal: 6m 14s\tremaining: 1m\n",
      "86:\tlearn: 0.8061090\ttotal: 6m 18s\tremaining: 56.6s\n",
      "87:\tlearn: 0.8053895\ttotal: 6m 23s\tremaining: 52.3s\n",
      "88:\tlearn: 0.8044505\ttotal: 6m 27s\tremaining: 47.9s\n",
      "89:\tlearn: 0.8037387\ttotal: 6m 31s\tremaining: 43.5s\n",
      "90:\tlearn: 0.8028872\ttotal: 6m 36s\tremaining: 39.2s\n",
      "91:\tlearn: 0.8022907\ttotal: 6m 41s\tremaining: 34.9s\n",
      "92:\tlearn: 0.8007406\ttotal: 6m 45s\tremaining: 30.5s\n",
      "93:\tlearn: 0.7997626\ttotal: 6m 50s\tremaining: 26.2s\n",
      "94:\tlearn: 0.7989892\ttotal: 6m 55s\tremaining: 21.9s\n",
      "95:\tlearn: 0.7981337\ttotal: 7m\tremaining: 17.5s\n",
      "96:\tlearn: 0.7969475\ttotal: 7m 5s\tremaining: 13.2s\n",
      "97:\tlearn: 0.7962166\ttotal: 7m 10s\tremaining: 8.78s\n",
      "98:\tlearn: 0.7953290\ttotal: 7m 14s\tremaining: 4.39s\n",
      "99:\tlearn: 0.7943254\ttotal: 7m 19s\tremaining: 0us\n"
     ]
    }
   ],
   "source": [
    "model = CatBoostClassifier(\n",
    "                            learning_rate=0.1,\n",
    "                            depth=8,\n",
    "                            #l2_leaf_reg=2,\n",
    "                            iterations=100,\n",
    "                            random_seed=42,\n",
    "                            loss_function='MultiClass',\n",
    "                            verbose=True\n",
    "                          )\n",
    "model.fit(bow3, y_train)\n",
    "pred_proba = model.predict_proba(bow3_test)\n",
    "score = roc_auc_score(y_test, pred_proba, multi_class='ovr')"
   ]
  },
  {
   "cell_type": "code",
   "execution_count": 72,
   "metadata": {
    "execution": {
     "iopub.status.busy": "2023-04-08T16:53:55.125010Z",
     "iopub.status.idle": "2023-04-08T16:53:55.125445Z",
     "shell.execute_reply": "2023-04-08T16:53:55.125234Z",
     "shell.execute_reply.started": "2023-04-08T16:53:55.125213Z"
    }
   },
   "outputs": [
    {
     "data": {
      "text/plain": [
       "0.7453910946614325"
      ]
     },
     "execution_count": 72,
     "metadata": {},
     "output_type": "execute_result"
    }
   ],
   "source": [
    "score"
   ]
  },
  {
   "cell_type": "code",
   "execution_count": null,
   "metadata": {},
   "outputs": [],
   "source": []
  }
 ],
 "metadata": {
  "kernelspec": {
   "display_name": "Python 3",
   "language": "python",
   "name": "python3"
  },
  "language_info": {
   "codemirror_mode": {
    "name": "ipython",
    "version": 3
   },
   "file_extension": ".py",
   "mimetype": "text/x-python",
   "name": "python",
   "nbconvert_exporter": "python",
   "pygments_lexer": "ipython3",
   "version": "3.10.5"
  }
 },
 "nbformat": 4,
 "nbformat_minor": 4
}
